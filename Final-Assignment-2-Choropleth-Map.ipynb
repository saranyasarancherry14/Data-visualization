import pandas as pd
import numpy as np

In [57]:

# import the data
sf_raw=pd.read_csv('Police_Department_Incidents_-_Previous_Year__2016_.csv')

In [58]:

# count crime numbers for each district
sf_s=sf_raw.groupby(['PdDistrict'], sort=0).apply(lambda g: pd.Series({\
                                                                 'Count': g.IncidntNum.count(),\
                                                                 }))

In [59]:

# reset index
sf_s.reset_index(level=0, inplace=True)

In [60]:

sf_s

Out[60]:
	PdDistrict 	Count
0 	SOUTHERN 	28445
1 	BAYVIEW 	14303
2 	TENDERLOIN 	9942
3 	MISSION 	19503
4 	NORTHERN 	20100
5 	TARAVAL 	11325
6 	INGLESIDE 	11594
7 	CENTRAL 	17666
8 	RICHMOND 	8922
9 	PARK 	8699
In [61]:

# rename columns
sf=sf_s.rename(columns={'PdDistrict':'Neighborhood'})

In [62]:

sf

Out[62]:
	Neighborhood 	Count
0 	SOUTHERN 	28445
1 	BAYVIEW 	14303
2 	TENDERLOIN 	9942
3 	MISSION 	19503
4 	NORTHERN 	20100
5 	TARAVAL 	11325
6 	INGLESIDE 	11594
7 	CENTRAL 	17666
8 	RICHMOND 	8922
9 	PARK 	8699

Now you should be ready to proceed with creating the Choropleth map.

As you learned in the Choropleth maps lab, you will need a GeoJSON file that marks the boundaries of the different neighborhoods in San Francisco. In order to save you the hassle of looking for the right file, I already downloaded it for you and I am making it available via this link: https://cocl.us/sanfran_geojson.

For the map, make sure that:

it is centred around San Francisco,

you use a zoom level of 12,

you use fill_color = 'YlOrRd',

you define fill_opacity = 0.7,

you define line_opacity=0.2, and,

you define a legend and use the default threshold scale.
In [63]:

!conda install -c conda-forge folium=0.5.0 --yes
import folium

print('Folium installed and imported!')

Solving environment: done


==> WARNING: A newer version of conda exists. <==
  current version: 4.5.11
  latest version: 4.7.12

Please update conda by running

    $ conda update -n base -c defaults conda



## Package Plan ##

  environment location: /home/jupyterlab/conda/envs/python

  added / updated specs: 
    - folium=0.5.0


The following packages will be downloaded:

    package                    |            build
    ---------------------------|-----------------
    certifi-2019.9.11          |           py36_0         147 KB  conda-forge

The following packages will be UPDATED:

    certifi: 2019.9.11-py36_0 anaconda --> 2019.9.11-py36_0  conda-forge

The following packages will be DOWNGRADED:

    openssl: 1.1.1-h7b6447c_0 anaconda --> 1.1.1c-h516909a_0 conda-forge


Downloading and Extracting Packages
certifi-2019.9.11    | 147 KB    | ##################################### | 100% 
Preparing transaction: done
Verifying transaction: done
Executing transaction: done
Folium installed and imported!

In [64]:

# Read the json file
sf_geo = r'san-francisco.geojson' # geojson file

In [65]:

# define the world map
world_map = folium.Map()

# display world map
world_map

Out[65]:
In [ ]:

# San Francisco latitude and longitude values
latitude = 37.77
longitude = -122.42

# create map and display it
sanfran_map = folium.Map(location=[latitude, longitude], zoom_start=12)

# display the map of San Francisco
sanfran_map

In [72]:

# create a plain world map
sf_map = folium.Map(location=[37.77, -122.42], zoom_start=12)

In [ ]:

# generate choropleth map using the total crime numbers of each neighborhood of san francisco from 1980 to 2013
sf_map.choropleth(
    geo_data=sf_geo,
    data=sf,
    columns=['Neighborhood', 'Count'],
    key_on='feature.properties.DISTRICT',
    fill_color='YlOrRd', 
    fill_opacity=0.7, 
    line_opacity=0.2,
    legend_name='Crime Numbers of Each Neighborhood in San Francisco'
)

# display map
sf_map

In [ ]:


